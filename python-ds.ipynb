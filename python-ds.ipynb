{
 "cells": [
  {
   "cell_type": "markdown",
   "metadata": {},
   "source": [
    "# Web Mining and Applied NLP (44-620)\n",
    "\n",
    "## Python Notebooks, Basics, and Data Structures\n",
    "\n",
    "### Student Name: Jarred Gastreich\n",
    "https://github.com/jarjarredred/python-ds-nb\n",
    "\n",
    "Perform the tasks described in the Markdown cells below.  When you have completed the assignment make sure your code cells have all been run (and have output beneath them) and ensure you have committed and pushed ALL of your changes to your assignment repository.\n",
    "\n",
    "Every question that requires you to write code will have a code cell underneath it; you may either write your entire solution in that cell or write it in a python file (`.py`), then import and run the appropriate code to answer the question.\n",
    "\n",
    "Do not use external modules (`math`, etc) for this assignment unless you are explicitly instructed to, though you may use built in python functions (`min`, `max`, etc) as you wish."
   ]
  },
  {
   "cell_type": "markdown",
   "metadata": {},
   "source": [
    "1. Modify the Markdown cell above to put your name after \"Student Name:\"; you will be expected to do this in all assignments presented in this format for this class."
   ]
  },
  {
   "cell_type": "markdown",
   "metadata": {},
   "source": [
    "2. Write code that divides any two numbers, stores the result in a variable, and prints the result with an appropriate label."
   ]
  },
  {
   "cell_type": "code",
   "execution_count": 129,
   "metadata": {},
   "outputs": [
    {
     "name": "stdout",
     "output_type": "stream",
     "text": [
      "The result of dividing 10 by 2 is: 5.0\n"
     ]
    }
   ],
   "source": [
    "num1 = 10\n",
    "num2 = 2\n",
    "division_result = (num1 / num2) if num2 != 0 else \"undefined (division by zero)\"\n",
    "print(f\"The result of dividing {num1} by {num2} is: {division_result}\")"
   ]
  },
  {
   "cell_type": "markdown",
   "metadata": {},
   "source": [
    "3. Using loops (and potentially conditionals), write Python code that prints the factorial of each integer from 1 through 10 (which you can store in a variable if you want). The factorial of an integer is the product of all of the integers of 1 through the number. Print the result with an appropriate label."
   ]
  },
  {
   "cell_type": "code",
   "execution_count": 130,
   "metadata": {},
   "outputs": [
    {
     "name": "stdout",
     "output_type": "stream",
     "text": [
      "Calculating factorials for integers from 1 to 10:\n",
      "\n",
      "The factorial of 1 is: 1\n",
      "The factorial of 2 is: 2\n",
      "The factorial of 3 is: 6\n",
      "The factorial of 4 is: 24\n",
      "The factorial of 5 is: 120\n",
      "The factorial of 6 is: 720\n",
      "The factorial of 7 is: 5040\n",
      "The factorial of 8 is: 40320\n",
      "The factorial of 9 is: 362880\n",
      "The factorial of 10 is: 3628800\n"
     ]
    }
   ],
   "source": [
    "def calculate_factorial(n):\n",
    "    if not isinstance(n, int) or n < 0:\n",
    "        print(f\"Warning: Factorial is not defined for non-negative integers. Received: {n}\")\n",
    "        return None\n",
    "    elif n == 0 or n == 1:\n",
    "        return 1\n",
    "    else:\n",
    "        factorial = 1\n",
    "        # Loop from 1 up to n (inclusive) to calculate the product\n",
    "        for i in range(1, n + 1):\n",
    "            factorial *= i\n",
    "        return factorial\n",
    "\n",
    "print(\"Calculating factorials for integers from 1 to 10:\\n\")\n",
    "\n",
    "# Loop through numbers from 1 to 10\n",
    "for number in range(1, 11):\n",
    "    factorial_result = calculate_factorial(number)\n",
    "    if factorial_result is not None: # Check if the factorial was successfully calculated\n",
    "        print(f\"The factorial of {number} is: {factorial_result}\")\n"
   ]
  },
  {
   "cell_type": "markdown",
   "metadata": {},
   "source": [
    "4. Write a python function that takes a single parameter and calculates and returns the average (mean) of the values in the parameter (which you may assume is iterable).  Show that your function works by printing the result of calling the function on the list in the cell below."
   ]
  },
  {
   "cell_type": "code",
   "execution_count": 131,
   "metadata": {},
   "outputs": [],
   "source": [
    "def calculate_average(data):\n",
    "    if not data:\n",
    "        print(\"Warning: The input iterable is empty. Cannot calculate average.\")\n",
    "        return None\n",
    "\n",
    "    total = 0\n",
    "    count = 0\n",
    "    for item in data:\n",
    "        if isinstance(item, (int, float)):\n",
    "            total += item\n",
    "            count += 1\n",
    "        else:\n",
    "            print(f\"Warning: Non-numeric value '{item}' found in data. Skipping.\")\n",
    "\n",
    "    if count == 0:\n",
    "        print(\"Warning: No numeric values found in the iterable. Cannot calculate average.\")\n",
    "        return None\n",
    "    else:\n",
    "        return total / count\n",
    "    "
   ]
  },
  {
   "cell_type": "code",
   "execution_count": 132,
   "metadata": {},
   "outputs": [
    {
     "name": "stdout",
     "output_type": "stream",
     "text": [
      "The average of the list [1, -1, 2, -2, 3, -3, 4, -4] is: 0.0\n"
     ]
    }
   ],
   "source": [
    "testlist = [1,-1,2,-2,3,-3,4,-4]\n",
    "\n",
    "average_testlist = calculate_average(testlist)\n",
    "print(f\"The average of the list {testlist} is: {average_testlist}\")"
   ]
  },
  {
   "cell_type": "markdown",
   "metadata": {},
   "source": [
    "5. Using your mean function above, write a function that calculates the variance of the list of numbers (see https://en.wikipedia.org/wiki/Variance for more information on the formula). In short:\n",
    "* subtract the mean of the elements in the list from every element in the list; store these values in a new list\n",
    "* square every element in the new list and sum the elements together\n",
    "* divide the resulting number by N (where N is the length of the original list)\n",
    "\n",
    "Show the result of calling your function in the lists in the code cell. You must use one or more list comprehensions or map/filter in your code.\n"
   ]
  },
  {
   "cell_type": "code",
   "execution_count": 133,
   "metadata": {},
   "outputs": [],
   "source": [
    "def calculate_variance(data):\n",
    "    if not data:\n",
    "        print(\"Warning: The input list is empty. Cannot calculate variance.\")\n",
    "        return None\n",
    "\n",
    "    mean = calculate_average(data)\n",
    "    if mean is None:\n",
    "        print(\"Error: Could not calculate mean, cannot calculate variance.\")\n",
    "        return None\n",
    "\n",
    "    differences_from_mean = []\n",
    "    numeric_count = 0\n",
    "    for item in data:\n",
    "        if isinstance(item, (int, float)):\n",
    "            differences_from_mean.append(item - mean)\n",
    "            numeric_count += 1\n",
    "        else:\n",
    "            print(f\"Warning: Non-numeric value '{item}' found in data for variance calculation. Skipping.\")\n",
    "\n",
    "    if numeric_count == 0:\n",
    "        print(\"Warning: No numeric values found for variance calculation.\")\n",
    "        return None\n",
    "\n",
    "    squared_differences_sum = 0\n",
    "    for diff in differences_from_mean:\n",
    "        squared_differences_sum += diff ** 2\n",
    "\n",
    "    variance = squared_differences_sum / numeric_count\n",
    "    return variance"
   ]
  },
  {
   "cell_type": "code",
   "execution_count": 134,
   "metadata": {},
   "outputs": [
    {
     "name": "stdout",
     "output_type": "stream",
     "text": [
      "The variance of list1 [0.567, -1.48, -0.557, -1.47, 0.734, 1.05, 0.448, 0.257, -1.97, -1.46] is: 1.13973309\n",
      "The variance of list2 [-1.78, 0.264, 1.16, 0.908, 1.78, 1.08, 1.05, -0.0463, 1.52, 0.535] is: 0.9257232841\n"
     ]
    }
   ],
   "source": [
    "list1 = [ 5.670e-1, -1.480e+0, -5.570e-1, -1.470e+0, 7.340e-1, 1.050e+0, 4.480e-1, 2.570e-1, -1.970e+0, -1.460e+0]\n",
    "list2 = [-1.780e+0, 2.640e-1, 1.160e+0, 9.080e-1, 1.780e+0, 1.080e+0, 1.050e+0, -4.630e-2, 1.520e+0, 5.350e-1]\n",
    "# the variances of both lists should be relatively close to 1 (off by less than .15)\n",
    "\n",
    "variance_list1 = calculate_variance(list1)\n",
    "print(f\"The variance of list1 {list1} is: {variance_list1}\")\n",
    "\n",
    "variance_list2 = calculate_variance(list2)\n",
    "print(f\"The variance of list2 {list2} is: {variance_list2}\")"
   ]
  },
  {
   "cell_type": "markdown",
   "metadata": {},
   "source": [
    "6. Create a list with at least 15 elements in it. Use list slicing to print the following:\n",
    "* The first 5 elements of the list\n",
    "* The last 5 elements of the list\n",
    "* The list reversed (hint, show the entire list with a stride of -1)\n",
    "* Every second element in the list\n",
    "* Every third element in the list (stride of 3)"
   ]
  },
  {
   "cell_type": "code",
   "execution_count": 135,
   "metadata": {},
   "outputs": [
    {
     "name": "stdout",
     "output_type": "stream",
     "text": [
      "Original list: [1, 2, 3, 4, 5, 6, 7, 8, 9, 10, 11, 12, 13, 14, 15, 16, 17, 18, 19, 20]\n",
      "First 5 elements: [1, 2, 3, 4, 5]\n",
      "Last 5 elements: [16, 17, 18, 19, 20]\n",
      "List reversed: [20, 19, 18, 17, 16, 15, 14, 13, 12, 11, 10, 9, 8, 7, 6, 5, 4, 3, 2, 1]\n",
      "Every second element: [1, 3, 5, 7, 9, 11, 13, 15, 17, 19]\n",
      "Every third element: [1, 4, 7, 10, 13, 16, 19]\n"
     ]
    }
   ],
   "source": [
    "my_list = [1, 2, 3, 4, 5, 6, 7, 8, 9, 10, 11, 12, 13, 14, 15, 16, 17, 18, 19, 20]\n",
    "\n",
    "print(\"Original list:\", my_list)\n",
    "\n",
    "# The first 5 elements of the list\n",
    "print(\"First 5 elements:\", my_list[:5])\n",
    "\n",
    "# The last 5 elements of the list\n",
    "print(\"Last 5 elements:\", my_list[-5:])\n",
    "\n",
    "# The list reversed\n",
    "print(\"List reversed:\", my_list[::-1])\n",
    "\n",
    "# Every second element in the list\n",
    "print(\"Every second element:\", my_list[::2])\n",
    "\n",
    "# Every third element in the list\n",
    "print(\"Every third element:\", my_list[::3])"
   ]
  },
  {
   "cell_type": "markdown",
   "metadata": {},
   "source": [
    "7. Build a dictionary that contains the following information about this class (with appropriate names as keys):\n",
    "* The name\n",
    "* The course number\n",
    "* The semester/term in which you are taking this course\n",
    "* The number of credit hours this course counts for\n",
    "* A list of the course learning objectives\n",
    "\n",
    "The majority of this information can be found in the syllabus. Print the dictionary."
   ]
  },
  {
   "cell_type": "code",
   "execution_count": 136,
   "metadata": {},
   "outputs": [
    {
     "name": "stdout",
     "output_type": "stream",
     "text": [
      "{'name': 'Web Mining & Applied Natural Language Processing (NLP)', 'course_number': '44-620 80/81', 'semester_term': 'Summer 2025 - Block 2', 'credit_hours': '3 credits', 'learning_objectives': ['L01. Manage Python libraries and packages.', 'L02. Interact with Hosted Version Control Systems (e.g. Git and GitHub).', 'L03. Programmatically obtain and transform data from web-based APIs and HTML pages into a usable form.', 'L04. Describe the steps in a basic Natural Language Processing Pipeline.', 'L05. Use preexisting tools and software libraries to perform some Natural Language Processing, such as sentiment analysis.', 'L06. Explain results and conclusions drawn from the visualized.']}\n"
     ]
    }
   ],
   "source": [
    "class_info = {\n",
    "    \"name\": \"Web Mining & Applied Natural Language Processing (NLP)\",\n",
    "    \"course_number\": \"44-620 80/81\",\n",
    "    \"semester_term\": \"Summer 2025 - Block 2\",\n",
    "    \"credit_hours\": \"3 credits\",\n",
    "    \"learning_objectives\": [\n",
    "        \"L01. Manage Python libraries and packages.\",\n",
    "        \"L02. Interact with Hosted Version Control Systems (e.g. Git and GitHub).\",\n",
    "        \"L03. Programmatically obtain and transform data from web-based APIs and HTML pages into a usable form.\",\n",
    "        \"L04. Describe the steps in a basic Natural Language Processing Pipeline.\",\n",
    "        \"L05. Use preexisting tools and software libraries to perform some Natural Language Processing, such as sentiment analysis.\",\n",
    "        \"L06. Explain results and conclusions drawn from the visualized.\"\n",
    "    ]\n",
    "}\n",
    "\n",
    "print(class_info)"
   ]
  },
  {
   "cell_type": "markdown",
   "metadata": {},
   "source": [
    "8.  Given the dictionary defined in the code cell below, print the list of level 3 spells the character has."
   ]
  },
  {
   "cell_type": "code",
   "execution_count": 137,
   "metadata": {},
   "outputs": [
    {
     "name": "stdout",
     "output_type": "stream",
     "text": [
      "Level 3 Spells:\n",
      "- Mass Healing Word\n",
      "- Nondetection\n",
      "- Revivify\n",
      "- Feign Death\n",
      "- Speak with Dead\n"
     ]
    }
   ],
   "source": [
    "player_character = {'name': 'Kitab',\n",
    "                   'class': [('Cleric: Knowledge', 7)],\n",
    "                   'spells': {'cantrip': ['Guidance', 'Light', 'Thaumaturgy', 'Toll the Dead', 'Word of Radiance'],\n",
    "                             'level 1': ['Command', 'Detect Magic', 'Healing Word', 'Identify', 'Sleep'],\n",
    "                             'level 2': ['Augury', 'Calm Emotions', 'Command', 'Invisibility', 'Lesser Restoration'],\n",
    "                             'level 3': ['Mass Healing Word', 'Nondetection', 'Revivify', 'Feign Death', 'Speak with Dead'],\n",
    "                             'level 4': ['Banishment', 'Confusion']}\n",
    "                   }\n",
    "\n",
    "def print_level_3_spells(player_character):\n",
    "    print(\"Level 3 Spells:\")\n",
    "    for spell in player_character['spells']['level 3']:\n",
    "      print(f\"- {spell}\")\n",
    "\n",
    "print_level_3_spells(player_character)"
   ]
  },
  {
   "cell_type": "markdown",
   "metadata": {},
   "source": [
    "9. Write code to determine the number of unique elements in the list below.  You MUST use a set in finding your solution.  Print the number of unique values in the list with an appropriate label."
   ]
  },
  {
   "cell_type": "code",
   "execution_count": 138,
   "metadata": {},
   "outputs": [
    {
     "name": "stdout",
     "output_type": "stream",
     "text": [
      "The number of unique values in the list is: 12\n"
     ]
    }
   ],
   "source": [
    "values = [10, 11, 10, 8, 1, 12, 0, 1, 6, 5, 5, 13, 6, 15, 0, 0, 1, 1, 9, 7]\n",
    "\n",
    "unique_values = set(values)\n",
    "\n",
    "num_unique_elements = len(unique_values)\n",
    "\n",
    "print(f\"The number of unique values in the list is: {num_unique_elements}\")"
   ]
  },
  {
   "cell_type": "markdown",
   "metadata": {},
   "source": [
    "10. Create a new Jupyter Notebook (the name of the notebook should be your S number). Add a Markdown cell that contains your name. Add a Code cell and write Python that uses loops to draw the following pattern:\n",
    "\n",
    "```\n",
    "*      *\n",
    "**    **\n",
    "***  ***\n",
    "********\n",
    "```\n",
    "Make sure to add and submit both the new notebook and the changes to this notebook for this assignment."
   ]
  }
 ],
 "metadata": {
  "kernelspec": {
   "display_name": "Python 3",
   "language": "python",
   "name": "python3"
  },
  "language_info": {
   "codemirror_mode": {
    "name": "ipython",
    "version": 3
   },
   "file_extension": ".py",
   "mimetype": "text/x-python",
   "name": "python",
   "nbconvert_exporter": "python",
   "pygments_lexer": "ipython3",
   "version": "3.13.3"
  }
 },
 "nbformat": 4,
 "nbformat_minor": 4
}
