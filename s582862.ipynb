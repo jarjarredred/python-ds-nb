{
 "cells": [
  {
   "cell_type": "markdown",
   "id": "7a45da09",
   "metadata": {},
   "source": [
    "# Jarred"
   ]
  },
  {
   "cell_type": "code",
   "execution_count": 2,
   "id": "284381c4",
   "metadata": {},
   "outputs": [
    {
     "name": "stdout",
     "output_type": "stream",
     "text": [
      "*      *\n",
      "**    **\n",
      "***  ***\n",
      "********\n"
     ]
    }
   ],
   "source": [
    "def draw_v_pattern():\n",
    "    for i in range(4): #\n",
    "        if i < 3:\n",
    "            num_stars_side = i + 1\n",
    "            num_spaces = 8 - (2 * num_stars_side)\n",
    "            print(\"*\" * num_stars_side + \" \" * num_spaces + \"*\" * num_stars_side)\n",
    "        else:\n",
    "            print(\"********\")\n",
    "\n",
    "draw_v_pattern()"
   ]
  },
  {
   "cell_type": "code",
   "execution_count": 3,
   "id": "a7c0b5c3",
   "metadata": {},
   "outputs": [
    {
     "name": "stderr",
     "output_type": "stream",
     "text": [
      "[NbConvertApp] Converting notebook s582862.ipynb to html\n",
      "[NbConvertApp] Writing 272555 bytes to s582862.html\n"
     ]
    }
   ],
   "source": [
    "!jupyter nbconvert --to html s582862.ipynb"
   ]
  }
 ],
 "metadata": {
  "kernelspec": {
   "display_name": "Python 3",
   "language": "python",
   "name": "python3"
  },
  "language_info": {
   "codemirror_mode": {
    "name": "ipython",
    "version": 3
   },
   "file_extension": ".py",
   "mimetype": "text/x-python",
   "name": "python",
   "nbconvert_exporter": "python",
   "pygments_lexer": "ipython3",
   "version": "3.13.3"
  }
 },
 "nbformat": 4,
 "nbformat_minor": 5
}
